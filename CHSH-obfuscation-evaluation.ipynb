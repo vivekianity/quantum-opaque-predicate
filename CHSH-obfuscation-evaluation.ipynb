{
 "cells": [
  {
   "cell_type": "code",
   "execution_count": 1,
   "metadata": {
    "scrolled": true
   },
   "outputs": [
    {
     "name": "stdout",
     "output_type": "stream",
     "text": [
      "Enter the number of entangled pair to be used - 1\n"
     ]
    }
   ],
   "source": [
    "n = input(\"Enter the number of entangled pair to be used - \")\n",
    "n = int(n)\n"
   ]
  },
  {
   "cell_type": "code",
   "execution_count": 2,
   "metadata": {},
   "outputs": [],
   "source": [
    "from qiskit import * \n",
    "%matplotlib inline \n",
    "from qiskit.tools.visualization import plot_histogram \n",
    "from qiskit.qasm import pi"
   ]
  },
  {
   "cell_type": "code",
   "execution_count": 3,
   "metadata": {},
   "outputs": [
    {
     "name": "stdout",
     "output_type": "stream",
     "text": [
      "1 and (qubit[0] != qubit[1])\n"
     ]
    },
    {
     "data": {
      "image/png": "[encoded data removed]",
      "text/plain": [
       "<Figure size 719.992x204.68 with 1 Axes>"
      ]
     },
     "execution_count": 3,
     "metadata": {},
     "output_type": "execute_result"
    }
   ],
   "source": [
    "# defining a quantum circuit with n pairs of entangled qubits and n pairs of classical bits \n",
    "c = QuantumCircuit(2*n,2*n)\n",
    "\n",
    "# entangling qubits to Bell state\n",
    "\n",
    "for i in range(n):\n",
    "    c.h(2*i)\n",
    "    c.cx(2*i, 2*i+1)\n",
    "\n",
    "c.barrier()\n",
    "\n",
    "# Input at the compile time (Alice's) side \n",
    "# For ease of use we  keep the input as 0 \n",
    "\n",
    "x = ''\n",
    "for i in range(n):\n",
    "    x = x + '0' \n",
    "\n",
    "# Settting up the compile time(Alice's) measurement strategies based on the input. \n",
    "# Measurement of the entangled bit at the compile time side (for each pair)\n",
    "# Measurement is either in 0-1 base if the input is 0 or in a rotated 0-1 base if the input is 1 \n",
    "    \n",
    "for i in range(len(x)):\n",
    "    \n",
    "    if x[i] == '0':\n",
    "        c.ry(0, 2*i)\n",
    "        c.measure(2*i,2*i)\n",
    "    if x[i] == '1':\n",
    "        c.ry(pi/2, 2*i)\n",
    "        c.measure(2*i,2*i) \n",
    "        \n",
    "c.barrier()\n",
    "\n",
    "# Input at the compiled code at run-time (Bob's) side \n",
    "# For ease of use we  keep the input as 1 \n",
    "\n",
    "y = ''\n",
    "for i in range(n):\n",
    "    y = y + '1' \n",
    "\n",
    "# Settting up the compile time(Alice's) measurement strategies based on the input. \n",
    "# Measurement of the entangled bit at the compile time side (for each pair)\n",
    "# Measurement is either in 0-1 base if the input is 0 or in a rotated 0-1 base if the input is 1 \n",
    "    \n",
    "for i in range(len(y)):\n",
    "    \n",
    "    if y[i] == '0':\n",
    "        c.ry(pi/4, 2*i+1)\n",
    "        c.measure(2*i+1,2*i+1)\n",
    "    if y[i] == '1':\n",
    "        c.ry(pi/-4, 2*i+1)\n",
    "        c.measure(2*i+1,2*i+1)\n",
    "        \n",
    "c.barrier() \n",
    "\n",
    "# Craft the quantum opaque predicate here (qop)\n",
    "# Qubit values will be stored in classical bits.  \n",
    "# We will use 'qubit' to represent the measured qubit values\n",
    "\n",
    "\n",
    "qop = '1'\n",
    "\n",
    "for i in range(n):\n",
    "    if((x[i] == '1') and (y[i] == '1')):\n",
    "        temp = \"(qubit[\" +str(2*i)+ \"] == qubit[\" + str(2*i+1)+ \"])\"\n",
    "    else:\n",
    "        temp = \"(qubit[\" +str(2*i)+ \"] != qubit[\" + str(2*i+1)+ \"])\"\n",
    "    qop = qop + ' and '+ temp\n",
    "\n",
    "print(qop)\n",
    "\n",
    "c.draw(output = \"mpl\")\n"
   ]
  },
  {
   "cell_type": "code",
   "execution_count": 28,
   "metadata": {},
   "outputs": [
    {
     "name": "stdout",
     "output_type": "stream",
     "text": [
      "10 0\n",
      "100 0\n",
      "1000 0\n",
      "10000 0\n",
      "100000 0\n"
     ]
    }
   ],
   "source": [
    "# Experimental setup\n",
    "# Runs the quantum circuit 1000 times in a quantum simulator\n",
    "# Execute the Quantum opaque predicate\n",
    "# Counts the number of times wrong path is taken\n",
    "\n",
    "for i in [10,100,1000,10000,100000]:\n",
    "    sim = Aer.get_backend('qasm_simulator')\n",
    "    result = execute(c, backend= sim, shots =i).result()\n",
    "    counts = result.get_counts()\n",
    "    #plot_histogram(counts)\n",
    "\n",
    "\n",
    "    wrong_path = 0\n",
    "    #print(counts)\n",
    "\n",
    "    for outcome in counts.keys():\n",
    "        # reverse the bit stream. LBB-> MSB in the string\n",
    "        qubit = outcome[::-1]\n",
    "        if (eval(qop)):\n",
    "                wrong_path = wrong_path + counts[outcome]\n",
    "    print(i,wrong_path)\n",
    "\n"
   ]
  },
  {
   "cell_type": "code",
   "execution_count": null,
   "metadata": {},
   "outputs": [],
   "source": []
  }
 ],
 "metadata": {
  "kernelspec": {
   "display_name": "Python 3",
   "language": "python",
   "name": "python3"
  },
  "language_info": {
   "codemirror_mode": {
    "name": "ipython",
    "version": 3
   },
   "file_extension": ".py",
   "mimetype": "text/x-python",
   "name": "python",
   "nbconvert_exporter": "python",
   "pygments_lexer": "ipython3",
   "version": "3.7.6"
  }
 },
 "nbformat": 4,
 "nbformat_minor": 4
}
